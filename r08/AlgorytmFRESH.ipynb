{
 "cells": [
  {
   "cell_type": "code",
   "execution_count": 7,
   "metadata": {},
   "outputs": [],
   "source": [
    "## Python\n",
    "from tsfresh.examples.robot_execution_failures import download_robot_execution_failures, load_robot_execution_failures\n",
    "download_robot_execution_failures()\n",
    "timeseries, y = load_robot_execution_failures()\n"
   ]
  },
  {
   "cell_type": "code",
   "execution_count": 8,
   "metadata": {},
   "outputs": [
    {
     "name": "stderr",
     "output_type": "stream",
     "text": [
      "Feature Extraction: 100%|██████████| 20/20 [00:06<00:00,  3.32it/s]\n"
     ]
    }
   ],
   "source": [
    "from tsfresh import extract_features\n",
    "extracted_features = extract_features(timeseries, column_id = \"id\", column_sort = \"time\")"
   ]
  },
  {
   "cell_type": "code",
   "execution_count": 10,
   "metadata": {},
   "outputs": [
    {
     "data": {
      "text/plain": [
       "Index(['F_x__abs_energy', 'F_x__absolute_sum_of_changes',\n",
       "       'F_x__agg_autocorrelation__f_agg_\"mean\"__maxlag_40',\n",
       "       'F_x__agg_autocorrelation__f_agg_\"median\"__maxlag_40',\n",
       "       'F_x__agg_autocorrelation__f_agg_\"var\"__maxlag_40',\n",
       "       'F_x__agg_linear_trend__attr_\"intercept\"__chunk_len_10__f_agg_\"max\"',\n",
       "       'F_x__agg_linear_trend__attr_\"intercept\"__chunk_len_10__f_agg_\"mean\"',\n",
       "       'F_x__agg_linear_trend__attr_\"intercept\"__chunk_len_10__f_agg_\"min\"',\n",
       "       'F_x__agg_linear_trend__attr_\"intercept\"__chunk_len_10__f_agg_\"var\"',\n",
       "       'F_x__agg_linear_trend__attr_\"intercept\"__chunk_len_50__f_agg_\"max\"',\n",
       "       ...\n",
       "       'T_z__symmetry_looking__r_0.9500000000000001',\n",
       "       'T_z__time_reversal_asymmetry_statistic__lag_1',\n",
       "       'T_z__time_reversal_asymmetry_statistic__lag_2',\n",
       "       'T_z__time_reversal_asymmetry_statistic__lag_3',\n",
       "       'T_z__value_count__value_-1', 'T_z__value_count__value_0',\n",
       "       'T_z__value_count__value_1', 'T_z__variance',\n",
       "       'T_z__variance_larger_than_standard_deviation',\n",
       "       'T_z__variation_coefficient'],\n",
       "      dtype='object', name='variable', length=4578)"
      ]
     },
     "execution_count": 10,
     "metadata": {},
     "output_type": "execute_result"
    }
   ],
   "source": [
    "extracted_features.columns"
   ]
  },
  {
   "cell_type": "code",
   "execution_count": null,
   "metadata": {},
   "outputs": [],
   "source": [
    "from tsfresh import select_features\n",
    "from tsfresh.utilities.dataframe_functions import impute\n",
    "import random as random\n",
    "import numpy as np\n",
    "\n",
    "impute(extracted_features)\n",
    "features_filtered = select_features(extracted_features, y)\n",
    "\n",
    "x_idx = random.sample(range(len(features_filtered.columns)), 10)\n",
    "selX = features_filtered.iloc[:, x_idx].values\n",
    "unselected_features = list(set(extracted_features.columns).difference(set(features_filtered.columns)))\n",
    "unselected_features = random.sample(unselected_features, 10)\n",
    "unsel_x_idx = [idx for (idx, val) in enumerate( extracted_features.columns) if val in unselected_features]\n",
    "unselX = extracted_features.iloc[:, unsel_x_idx].values\n",
    "mixed_X = np.hstack([selX, unselX])\n"
   ]
  },
  {
   "cell_type": "code",
   "execution_count": 12,
   "metadata": {},
   "outputs": [
    {
     "data": {
      "text/plain": [
       "(88, 20)"
      ]
     },
     "execution_count": 12,
     "metadata": {},
     "output_type": "execute_result"
    }
   ],
   "source": [
    "mixed_X.shape"
   ]
  },
  {
   "cell_type": "code",
   "execution_count": 13,
   "metadata": {},
   "outputs": [
    {
     "data": {
      "text/plain": [
       "array([ 1,  4,  8,  9,  3, 11, 10,  2,  5,  6,  7, 17, 14, 19, 20, 16, 13,\n",
       "       12, 18, 15])"
      ]
     },
     "execution_count": 13,
     "metadata": {},
     "output_type": "execute_result"
    }
   ],
   "source": [
    "from sklearn.feature_selection import RFE\n",
    "from sklearn.svm import SVC\n",
    "svc = SVC(kernel=\"linear\", C=1)\n",
    "rfe = RFE(estimator=svc, n_features_to_select=1, step=1)\n",
    "rfe.fit(mixed_X, y)\n",
    "rfe.ranking_\n"
   ]
  },
  {
   "cell_type": "code",
   "execution_count": null,
   "metadata": {},
   "outputs": [],
   "source": []
  },
  {
   "cell_type": "code",
   "execution_count": null,
   "metadata": {},
   "outputs": [],
   "source": []
  }
 ],
 "metadata": {
  "kernelspec": {
   "display_name": "Python 3",
   "language": "python",
   "name": "python3"
  },
  "language_info": {
   "codemirror_mode": {
    "name": "ipython",
    "version": 3
   },
   "file_extension": ".py",
   "mimetype": "text/x-python",
   "name": "python",
   "nbconvert_exporter": "python",
   "pygments_lexer": "ipython3",
   "version": "3.7.6"
  }
 },
 "nbformat": 4,
 "nbformat_minor": 2
}
